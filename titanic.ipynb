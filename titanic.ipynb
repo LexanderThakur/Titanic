{
  "nbformat": 4,
  "nbformat_minor": 0,
  "metadata": {
    "colab": {
      "provenance": [],
      "authorship_tag": "ABX9TyMkSuSttN4oY13ScO9XmdvG",
      "include_colab_link": true
    },
    "kernelspec": {
      "name": "python3",
      "display_name": "Python 3"
    },
    "language_info": {
      "name": "python"
    }
  },
  "cells": [
    {
      "cell_type": "markdown",
      "metadata": {
        "id": "view-in-github",
        "colab_type": "text"
      },
      "source": [
        "<a href=\"https://colab.research.google.com/github/LexanderThakur/Titanic/blob/main/titanic.ipynb\" target=\"_parent\"><img src=\"https://colab.research.google.com/assets/colab-badge.svg\" alt=\"Open In Colab\"/></a>"
      ]
    },
    {
      "cell_type": "code",
      "execution_count": null,
      "metadata": {
        "id": "XzgzcNGu0zIO",
        "colab": {
          "base_uri": "https://localhost:8080/",
          "height": 432
        },
        "outputId": "fdce7458-b2fe-4269-da35-dcf7d945c3ea"
      },
      "outputs": [
        {
          "output_type": "execute_result",
          "data": {
            "text/plain": [
              "   PassengerId  Survived  Pclass  \\\n",
              "0            1         0       3   \n",
              "1            2         1       1   \n",
              "2            3         1       3   \n",
              "3            4         1       1   \n",
              "4            5         0       3   \n",
              "5            6         0       3   \n",
              "6            7         0       1   \n",
              "7            8         0       3   \n",
              "8            9         1       3   \n",
              "9           10         1       2   \n",
              "\n",
              "                                                Name     Sex   Age  SibSp  \\\n",
              "0                            Braund, Mr. Owen Harris    male  22.0      1   \n",
              "1  Cumings, Mrs. John Bradley (Florence Briggs Th...  female  38.0      1   \n",
              "2                             Heikkinen, Miss. Laina  female  26.0      0   \n",
              "3       Futrelle, Mrs. Jacques Heath (Lily May Peel)  female  35.0      1   \n",
              "4                           Allen, Mr. William Henry    male  35.0      0   \n",
              "5                                   Moran, Mr. James    male   NaN      0   \n",
              "6                            McCarthy, Mr. Timothy J    male  54.0      0   \n",
              "7                     Palsson, Master. Gosta Leonard    male   2.0      3   \n",
              "8  Johnson, Mrs. Oscar W (Elisabeth Vilhelmina Berg)  female  27.0      0   \n",
              "9                Nasser, Mrs. Nicholas (Adele Achem)  female  14.0      1   \n",
              "\n",
              "   Parch            Ticket     Fare Cabin Embarked  \n",
              "0      0         A/5 21171   7.2500   NaN        S  \n",
              "1      0          PC 17599  71.2833   C85        C  \n",
              "2      0  STON/O2. 3101282   7.9250   NaN        S  \n",
              "3      0            113803  53.1000  C123        S  \n",
              "4      0            373450   8.0500   NaN        S  \n",
              "5      0            330877   8.4583   NaN        Q  \n",
              "6      0             17463  51.8625   E46        S  \n",
              "7      1            349909  21.0750   NaN        S  \n",
              "8      2            347742  11.1333   NaN        S  \n",
              "9      0            237736  30.0708   NaN        C  "
            ],
            "text/html": [
              "\n",
              "  <div id=\"df-094a20b9-aec6-4bc0-910a-95c5e9a08cc6\" class=\"colab-df-container\">\n",
              "    <div>\n",
              "<style scoped>\n",
              "    .dataframe tbody tr th:only-of-type {\n",
              "        vertical-align: middle;\n",
              "    }\n",
              "\n",
              "    .dataframe tbody tr th {\n",
              "        vertical-align: top;\n",
              "    }\n",
              "\n",
              "    .dataframe thead th {\n",
              "        text-align: right;\n",
              "    }\n",
              "</style>\n",
              "<table border=\"1\" class=\"dataframe\">\n",
              "  <thead>\n",
              "    <tr style=\"text-align: right;\">\n",
              "      <th></th>\n",
              "      <th>PassengerId</th>\n",
              "      <th>Survived</th>\n",
              "      <th>Pclass</th>\n",
              "      <th>Name</th>\n",
              "      <th>Sex</th>\n",
              "      <th>Age</th>\n",
              "      <th>SibSp</th>\n",
              "      <th>Parch</th>\n",
              "      <th>Ticket</th>\n",
              "      <th>Fare</th>\n",
              "      <th>Cabin</th>\n",
              "      <th>Embarked</th>\n",
              "    </tr>\n",
              "  </thead>\n",
              "  <tbody>\n",
              "    <tr>\n",
              "      <th>0</th>\n",
              "      <td>1</td>\n",
              "      <td>0</td>\n",
              "      <td>3</td>\n",
              "      <td>Braund, Mr. Owen Harris</td>\n",
              "      <td>male</td>\n",
              "      <td>22.0</td>\n",
              "      <td>1</td>\n",
              "      <td>0</td>\n",
              "      <td>A/5 21171</td>\n",
              "      <td>7.2500</td>\n",
              "      <td>NaN</td>\n",
              "      <td>S</td>\n",
              "    </tr>\n",
              "    <tr>\n",
              "      <th>1</th>\n",
              "      <td>2</td>\n",
              "      <td>1</td>\n",
              "      <td>1</td>\n",
              "      <td>Cumings, Mrs. John Bradley (Florence Briggs Th...</td>\n",
              "      <td>female</td>\n",
              "      <td>38.0</td>\n",
              "      <td>1</td>\n",
              "      <td>0</td>\n",
              "      <td>PC 17599</td>\n",
              "      <td>71.2833</td>\n",
              "      <td>C85</td>\n",
              "      <td>C</td>\n",
              "    </tr>\n",
              "    <tr>\n",
              "      <th>2</th>\n",
              "      <td>3</td>\n",
              "      <td>1</td>\n",
              "      <td>3</td>\n",
              "      <td>Heikkinen, Miss. Laina</td>\n",
              "      <td>female</td>\n",
              "      <td>26.0</td>\n",
              "      <td>0</td>\n",
              "      <td>0</td>\n",
              "      <td>STON/O2. 3101282</td>\n",
              "      <td>7.9250</td>\n",
              "      <td>NaN</td>\n",
              "      <td>S</td>\n",
              "    </tr>\n",
              "    <tr>\n",
              "      <th>3</th>\n",
              "      <td>4</td>\n",
              "      <td>1</td>\n",
              "      <td>1</td>\n",
              "      <td>Futrelle, Mrs. Jacques Heath (Lily May Peel)</td>\n",
              "      <td>female</td>\n",
              "      <td>35.0</td>\n",
              "      <td>1</td>\n",
              "      <td>0</td>\n",
              "      <td>113803</td>\n",
              "      <td>53.1000</td>\n",
              "      <td>C123</td>\n",
              "      <td>S</td>\n",
              "    </tr>\n",
              "    <tr>\n",
              "      <th>4</th>\n",
              "      <td>5</td>\n",
              "      <td>0</td>\n",
              "      <td>3</td>\n",
              "      <td>Allen, Mr. William Henry</td>\n",
              "      <td>male</td>\n",
              "      <td>35.0</td>\n",
              "      <td>0</td>\n",
              "      <td>0</td>\n",
              "      <td>373450</td>\n",
              "      <td>8.0500</td>\n",
              "      <td>NaN</td>\n",
              "      <td>S</td>\n",
              "    </tr>\n",
              "    <tr>\n",
              "      <th>5</th>\n",
              "      <td>6</td>\n",
              "      <td>0</td>\n",
              "      <td>3</td>\n",
              "      <td>Moran, Mr. James</td>\n",
              "      <td>male</td>\n",
              "      <td>NaN</td>\n",
              "      <td>0</td>\n",
              "      <td>0</td>\n",
              "      <td>330877</td>\n",
              "      <td>8.4583</td>\n",
              "      <td>NaN</td>\n",
              "      <td>Q</td>\n",
              "    </tr>\n",
              "    <tr>\n",
              "      <th>6</th>\n",
              "      <td>7</td>\n",
              "      <td>0</td>\n",
              "      <td>1</td>\n",
              "      <td>McCarthy, Mr. Timothy J</td>\n",
              "      <td>male</td>\n",
              "      <td>54.0</td>\n",
              "      <td>0</td>\n",
              "      <td>0</td>\n",
              "      <td>17463</td>\n",
              "      <td>51.8625</td>\n",
              "      <td>E46</td>\n",
              "      <td>S</td>\n",
              "    </tr>\n",
              "    <tr>\n",
              "      <th>7</th>\n",
              "      <td>8</td>\n",
              "      <td>0</td>\n",
              "      <td>3</td>\n",
              "      <td>Palsson, Master. Gosta Leonard</td>\n",
              "      <td>male</td>\n",
              "      <td>2.0</td>\n",
              "      <td>3</td>\n",
              "      <td>1</td>\n",
              "      <td>349909</td>\n",
              "      <td>21.0750</td>\n",
              "      <td>NaN</td>\n",
              "      <td>S</td>\n",
              "    </tr>\n",
              "    <tr>\n",
              "      <th>8</th>\n",
              "      <td>9</td>\n",
              "      <td>1</td>\n",
              "      <td>3</td>\n",
              "      <td>Johnson, Mrs. Oscar W (Elisabeth Vilhelmina Berg)</td>\n",
              "      <td>female</td>\n",
              "      <td>27.0</td>\n",
              "      <td>0</td>\n",
              "      <td>2</td>\n",
              "      <td>347742</td>\n",
              "      <td>11.1333</td>\n",
              "      <td>NaN</td>\n",
              "      <td>S</td>\n",
              "    </tr>\n",
              "    <tr>\n",
              "      <th>9</th>\n",
              "      <td>10</td>\n",
              "      <td>1</td>\n",
              "      <td>2</td>\n",
              "      <td>Nasser, Mrs. Nicholas (Adele Achem)</td>\n",
              "      <td>female</td>\n",
              "      <td>14.0</td>\n",
              "      <td>1</td>\n",
              "      <td>0</td>\n",
              "      <td>237736</td>\n",
              "      <td>30.0708</td>\n",
              "      <td>NaN</td>\n",
              "      <td>C</td>\n",
              "    </tr>\n",
              "  </tbody>\n",
              "</table>\n",
              "</div>\n",
              "    <div class=\"colab-df-buttons\">\n",
              "\n",
              "  <div class=\"colab-df-container\">\n",
              "    <button class=\"colab-df-convert\" onclick=\"convertToInteractive('df-094a20b9-aec6-4bc0-910a-95c5e9a08cc6')\"\n",
              "            title=\"Convert this dataframe to an interactive table.\"\n",
              "            style=\"display:none;\">\n",
              "\n",
              "  <svg xmlns=\"http://www.w3.org/2000/svg\" height=\"24px\" viewBox=\"0 -960 960 960\">\n",
              "    <path d=\"M120-120v-720h720v720H120Zm60-500h600v-160H180v160Zm220 220h160v-160H400v160Zm0 220h160v-160H400v160ZM180-400h160v-160H180v160Zm440 0h160v-160H620v160ZM180-180h160v-160H180v160Zm440 0h160v-160H620v160Z\"/>\n",
              "  </svg>\n",
              "    </button>\n",
              "\n",
              "  <style>\n",
              "    .colab-df-container {\n",
              "      display:flex;\n",
              "      gap: 12px;\n",
              "    }\n",
              "\n",
              "    .colab-df-convert {\n",
              "      background-color: #E8F0FE;\n",
              "      border: none;\n",
              "      border-radius: 50%;\n",
              "      cursor: pointer;\n",
              "      display: none;\n",
              "      fill: #1967D2;\n",
              "      height: 32px;\n",
              "      padding: 0 0 0 0;\n",
              "      width: 32px;\n",
              "    }\n",
              "\n",
              "    .colab-df-convert:hover {\n",
              "      background-color: #E2EBFA;\n",
              "      box-shadow: 0px 1px 2px rgba(60, 64, 67, 0.3), 0px 1px 3px 1px rgba(60, 64, 67, 0.15);\n",
              "      fill: #174EA6;\n",
              "    }\n",
              "\n",
              "    .colab-df-buttons div {\n",
              "      margin-bottom: 4px;\n",
              "    }\n",
              "\n",
              "    [theme=dark] .colab-df-convert {\n",
              "      background-color: #3B4455;\n",
              "      fill: #D2E3FC;\n",
              "    }\n",
              "\n",
              "    [theme=dark] .colab-df-convert:hover {\n",
              "      background-color: #434B5C;\n",
              "      box-shadow: 0px 1px 3px 1px rgba(0, 0, 0, 0.15);\n",
              "      filter: drop-shadow(0px 1px 2px rgba(0, 0, 0, 0.3));\n",
              "      fill: #FFFFFF;\n",
              "    }\n",
              "  </style>\n",
              "\n",
              "    <script>\n",
              "      const buttonEl =\n",
              "        document.querySelector('#df-094a20b9-aec6-4bc0-910a-95c5e9a08cc6 button.colab-df-convert');\n",
              "      buttonEl.style.display =\n",
              "        google.colab.kernel.accessAllowed ? 'block' : 'none';\n",
              "\n",
              "      async function convertToInteractive(key) {\n",
              "        const element = document.querySelector('#df-094a20b9-aec6-4bc0-910a-95c5e9a08cc6');\n",
              "        const dataTable =\n",
              "          await google.colab.kernel.invokeFunction('convertToInteractive',\n",
              "                                                    [key], {});\n",
              "        if (!dataTable) return;\n",
              "\n",
              "        const docLinkHtml = 'Like what you see? Visit the ' +\n",
              "          '<a target=\"_blank\" href=https://colab.research.google.com/notebooks/data_table.ipynb>data table notebook</a>'\n",
              "          + ' to learn more about interactive tables.';\n",
              "        element.innerHTML = '';\n",
              "        dataTable['output_type'] = 'display_data';\n",
              "        await google.colab.output.renderOutput(dataTable, element);\n",
              "        const docLink = document.createElement('div');\n",
              "        docLink.innerHTML = docLinkHtml;\n",
              "        element.appendChild(docLink);\n",
              "      }\n",
              "    </script>\n",
              "  </div>\n",
              "\n",
              "\n",
              "    <div id=\"df-c6212aaa-e38a-4ece-9492-638c2c105ca4\">\n",
              "      <button class=\"colab-df-quickchart\" onclick=\"quickchart('df-c6212aaa-e38a-4ece-9492-638c2c105ca4')\"\n",
              "                title=\"Suggest charts\"\n",
              "                style=\"display:none;\">\n",
              "\n",
              "<svg xmlns=\"http://www.w3.org/2000/svg\" height=\"24px\"viewBox=\"0 0 24 24\"\n",
              "     width=\"24px\">\n",
              "    <g>\n",
              "        <path d=\"M19 3H5c-1.1 0-2 .9-2 2v14c0 1.1.9 2 2 2h14c1.1 0 2-.9 2-2V5c0-1.1-.9-2-2-2zM9 17H7v-7h2v7zm4 0h-2V7h2v10zm4 0h-2v-4h2v4z\"/>\n",
              "    </g>\n",
              "</svg>\n",
              "      </button>\n",
              "\n",
              "<style>\n",
              "  .colab-df-quickchart {\n",
              "      --bg-color: #E8F0FE;\n",
              "      --fill-color: #1967D2;\n",
              "      --hover-bg-color: #E2EBFA;\n",
              "      --hover-fill-color: #174EA6;\n",
              "      --disabled-fill-color: #AAA;\n",
              "      --disabled-bg-color: #DDD;\n",
              "  }\n",
              "\n",
              "  [theme=dark] .colab-df-quickchart {\n",
              "      --bg-color: #3B4455;\n",
              "      --fill-color: #D2E3FC;\n",
              "      --hover-bg-color: #434B5C;\n",
              "      --hover-fill-color: #FFFFFF;\n",
              "      --disabled-bg-color: #3B4455;\n",
              "      --disabled-fill-color: #666;\n",
              "  }\n",
              "\n",
              "  .colab-df-quickchart {\n",
              "    background-color: var(--bg-color);\n",
              "    border: none;\n",
              "    border-radius: 50%;\n",
              "    cursor: pointer;\n",
              "    display: none;\n",
              "    fill: var(--fill-color);\n",
              "    height: 32px;\n",
              "    padding: 0;\n",
              "    width: 32px;\n",
              "  }\n",
              "\n",
              "  .colab-df-quickchart:hover {\n",
              "    background-color: var(--hover-bg-color);\n",
              "    box-shadow: 0 1px 2px rgba(60, 64, 67, 0.3), 0 1px 3px 1px rgba(60, 64, 67, 0.15);\n",
              "    fill: var(--button-hover-fill-color);\n",
              "  }\n",
              "\n",
              "  .colab-df-quickchart-complete:disabled,\n",
              "  .colab-df-quickchart-complete:disabled:hover {\n",
              "    background-color: var(--disabled-bg-color);\n",
              "    fill: var(--disabled-fill-color);\n",
              "    box-shadow: none;\n",
              "  }\n",
              "\n",
              "  .colab-df-spinner {\n",
              "    border: 2px solid var(--fill-color);\n",
              "    border-color: transparent;\n",
              "    border-bottom-color: var(--fill-color);\n",
              "    animation:\n",
              "      spin 1s steps(1) infinite;\n",
              "  }\n",
              "\n",
              "  @keyframes spin {\n",
              "    0% {\n",
              "      border-color: transparent;\n",
              "      border-bottom-color: var(--fill-color);\n",
              "      border-left-color: var(--fill-color);\n",
              "    }\n",
              "    20% {\n",
              "      border-color: transparent;\n",
              "      border-left-color: var(--fill-color);\n",
              "      border-top-color: var(--fill-color);\n",
              "    }\n",
              "    30% {\n",
              "      border-color: transparent;\n",
              "      border-left-color: var(--fill-color);\n",
              "      border-top-color: var(--fill-color);\n",
              "      border-right-color: var(--fill-color);\n",
              "    }\n",
              "    40% {\n",
              "      border-color: transparent;\n",
              "      border-right-color: var(--fill-color);\n",
              "      border-top-color: var(--fill-color);\n",
              "    }\n",
              "    60% {\n",
              "      border-color: transparent;\n",
              "      border-right-color: var(--fill-color);\n",
              "    }\n",
              "    80% {\n",
              "      border-color: transparent;\n",
              "      border-right-color: var(--fill-color);\n",
              "      border-bottom-color: var(--fill-color);\n",
              "    }\n",
              "    90% {\n",
              "      border-color: transparent;\n",
              "      border-bottom-color: var(--fill-color);\n",
              "    }\n",
              "  }\n",
              "</style>\n",
              "\n",
              "      <script>\n",
              "        async function quickchart(key) {\n",
              "          const quickchartButtonEl =\n",
              "            document.querySelector('#' + key + ' button');\n",
              "          quickchartButtonEl.disabled = true;  // To prevent multiple clicks.\n",
              "          quickchartButtonEl.classList.add('colab-df-spinner');\n",
              "          try {\n",
              "            const charts = await google.colab.kernel.invokeFunction(\n",
              "                'suggestCharts', [key], {});\n",
              "          } catch (error) {\n",
              "            console.error('Error during call to suggestCharts:', error);\n",
              "          }\n",
              "          quickchartButtonEl.classList.remove('colab-df-spinner');\n",
              "          quickchartButtonEl.classList.add('colab-df-quickchart-complete');\n",
              "        }\n",
              "        (() => {\n",
              "          let quickchartButtonEl =\n",
              "            document.querySelector('#df-c6212aaa-e38a-4ece-9492-638c2c105ca4 button');\n",
              "          quickchartButtonEl.style.display =\n",
              "            google.colab.kernel.accessAllowed ? 'block' : 'none';\n",
              "        })();\n",
              "      </script>\n",
              "    </div>\n",
              "\n",
              "    </div>\n",
              "  </div>\n"
            ],
            "application/vnd.google.colaboratory.intrinsic+json": {
              "type": "dataframe",
              "variable_name": "titanic",
              "summary": "{\n  \"name\": \"titanic\",\n  \"rows\": 891,\n  \"fields\": [\n    {\n      \"column\": \"PassengerId\",\n      \"properties\": {\n        \"dtype\": \"number\",\n        \"std\": 257,\n        \"min\": 1,\n        \"max\": 891,\n        \"num_unique_values\": 891,\n        \"samples\": [\n          710,\n          440,\n          841\n        ],\n        \"semantic_type\": \"\",\n        \"description\": \"\"\n      }\n    },\n    {\n      \"column\": \"Survived\",\n      \"properties\": {\n        \"dtype\": \"number\",\n        \"std\": 0,\n        \"min\": 0,\n        \"max\": 1,\n        \"num_unique_values\": 2,\n        \"samples\": [\n          1,\n          0\n        ],\n        \"semantic_type\": \"\",\n        \"description\": \"\"\n      }\n    },\n    {\n      \"column\": \"Pclass\",\n      \"properties\": {\n        \"dtype\": \"number\",\n        \"std\": 0,\n        \"min\": 1,\n        \"max\": 3,\n        \"num_unique_values\": 3,\n        \"samples\": [\n          3,\n          1\n        ],\n        \"semantic_type\": \"\",\n        \"description\": \"\"\n      }\n    },\n    {\n      \"column\": \"Name\",\n      \"properties\": {\n        \"dtype\": \"string\",\n        \"num_unique_values\": 891,\n        \"samples\": [\n          \"Moubarek, Master. Halim Gonios (\\\"William George\\\")\",\n          \"Kvillner, Mr. Johan Henrik Johannesson\"\n        ],\n        \"semantic_type\": \"\",\n        \"description\": \"\"\n      }\n    },\n    {\n      \"column\": \"Sex\",\n      \"properties\": {\n        \"dtype\": \"category\",\n        \"num_unique_values\": 2,\n        \"samples\": [\n          \"female\",\n          \"male\"\n        ],\n        \"semantic_type\": \"\",\n        \"description\": \"\"\n      }\n    },\n    {\n      \"column\": \"Age\",\n      \"properties\": {\n        \"dtype\": \"number\",\n        \"std\": 14.526497332334044,\n        \"min\": 0.42,\n        \"max\": 80.0,\n        \"num_unique_values\": 88,\n        \"samples\": [\n          0.75,\n          22.0\n        ],\n        \"semantic_type\": \"\",\n        \"description\": \"\"\n      }\n    },\n    {\n      \"column\": \"SibSp\",\n      \"properties\": {\n        \"dtype\": \"number\",\n        \"std\": 1,\n        \"min\": 0,\n        \"max\": 8,\n        \"num_unique_values\": 7,\n        \"samples\": [\n          1,\n          0\n        ],\n        \"semantic_type\": \"\",\n        \"description\": \"\"\n      }\n    },\n    {\n      \"column\": \"Parch\",\n      \"properties\": {\n        \"dtype\": \"number\",\n        \"std\": 0,\n        \"min\": 0,\n        \"max\": 6,\n        \"num_unique_values\": 7,\n        \"samples\": [\n          0,\n          1\n        ],\n        \"semantic_type\": \"\",\n        \"description\": \"\"\n      }\n    },\n    {\n      \"column\": \"Ticket\",\n      \"properties\": {\n        \"dtype\": \"string\",\n        \"num_unique_values\": 681,\n        \"samples\": [\n          \"11774\",\n          \"248740\"\n        ],\n        \"semantic_type\": \"\",\n        \"description\": \"\"\n      }\n    },\n    {\n      \"column\": \"Fare\",\n      \"properties\": {\n        \"dtype\": \"number\",\n        \"std\": 49.693428597180905,\n        \"min\": 0.0,\n        \"max\": 512.3292,\n        \"num_unique_values\": 248,\n        \"samples\": [\n          11.2417,\n          51.8625\n        ],\n        \"semantic_type\": \"\",\n        \"description\": \"\"\n      }\n    },\n    {\n      \"column\": \"Cabin\",\n      \"properties\": {\n        \"dtype\": \"category\",\n        \"num_unique_values\": 147,\n        \"samples\": [\n          \"D45\",\n          \"B49\"\n        ],\n        \"semantic_type\": \"\",\n        \"description\": \"\"\n      }\n    },\n    {\n      \"column\": \"Embarked\",\n      \"properties\": {\n        \"dtype\": \"category\",\n        \"num_unique_values\": 3,\n        \"samples\": [\n          \"S\",\n          \"C\"\n        ],\n        \"semantic_type\": \"\",\n        \"description\": \"\"\n      }\n    }\n  ]\n}"
            }
          },
          "metadata": {},
          "execution_count": 1
        }
      ],
      "source": [
        "import pandas as pd\n",
        "import numpy as np\n",
        "\n",
        "titanic=pd.read_csv('train.csv')\n",
        "\n",
        "\n",
        "titanic.head(10)\n",
        "\n"
      ]
    },
    {
      "cell_type": "markdown",
      "source": [
        "Dealing with missing values"
      ],
      "metadata": {
        "id": "ic9M98nh68IT"
      }
    },
    {
      "cell_type": "code",
      "source": [
        "print(titanic[( ~titanic['Cabin'].isnull() ) & (titanic['Survived']==1)].shape[0])\n",
        "print(titanic[(titanic['Cabin'].isnull()) & (titanic['Survived']==0)].shape[0])\n",
        "print(titanic[titanic['Survived']==0].shape[0])\n",
        "\n",
        "print()"
      ],
      "metadata": {
        "colab": {
          "base_uri": "https://localhost:8080/"
        },
        "id": "-QSLKLAQ454K",
        "outputId": "631351a3-f238-4dfc-ffde-6f0feb084961"
      },
      "execution_count": null,
      "outputs": [
        {
          "output_type": "stream",
          "name": "stdout",
          "text": [
            "136\n",
            "481\n",
            "549\n",
            "\n"
          ]
        }
      ]
    },
    {
      "cell_type": "code",
      "source": [
        "#Age has 177 missing\n",
        "\n",
        "#using median to fill age\n",
        "titanic['Age'].fillna(titanic['Age'].median(),inplace=True)\n",
        "\n",
        "#Embarked has 2 missing values so just fillinf with C\n",
        "# using mode to fill embarked\n",
        "\n",
        "titanic['Embarked'].fillna(titanic['Embarked'].mode()[0],inplace=True) # mode return a series\n",
        "\n",
        "#Cabin no. has 687 missing values\n",
        "#filling it with unkown for now\n",
        "titanic['Cabin'].fillna('Unknown',inplace=True)\n",
        "\n",
        "titanic.to_csv('titanic_filled.csv', index=False)\n",
        "\n",
        "\n"
      ],
      "metadata": {
        "colab": {
          "base_uri": "https://localhost:8080/"
        },
        "id": "8DeksU6L3ptQ",
        "outputId": "86031f50-a52f-4d0d-efc7-cd0a5413e2d0"
      },
      "execution_count": null,
      "outputs": [
        {
          "output_type": "stream",
          "name": "stderr",
          "text": [
            "<ipython-input-31-46980451>:4: FutureWarning: A value is trying to be set on a copy of a DataFrame or Series through chained assignment using an inplace method.\n",
            "The behavior will change in pandas 3.0. This inplace method will never work because the intermediate object on which we are setting values always behaves as a copy.\n",
            "\n",
            "For example, when doing 'df[col].method(value, inplace=True)', try using 'df.method({col: value}, inplace=True)' or df[col] = df[col].method(value) instead, to perform the operation inplace on the original object.\n",
            "\n",
            "\n",
            "  titanic['Age'].fillna(titanic['Age'].median(),inplace=True)\n"
          ]
        }
      ]
    },
    {
      "cell_type": "markdown",
      "source": [
        "Feature Engienering\n"
      ],
      "metadata": {
        "id": "YUQx5RoQCbCz"
      }
    },
    {
      "cell_type": "code",
      "source": [
        "titanic=pd.read_csv('./titanic_filled.csv')\n",
        "\n",
        "\n",
        "# make ages less than 1 to 1\n",
        "titanic.loc[titanic['Age'] < 1, 'Age'] = 1\n",
        "\n",
        "titanic['Rounded_Ages']= titanic['Age'].apply(lambda x: x if x<15 else round(x / 5.0) * 5)\n",
        "\n",
        "titanic['FareGroup'] = titanic['Fare'].apply(lambda x: round(x / 10) * 10)\n",
        "\n",
        "\n",
        "titanic['Sex_numerical']= titanic['Sex'].apply(lambda x:1 if x=='male' else 0)\n",
        "\n",
        "\n",
        "\n",
        "#titanic.to_csv('titanic_feature_1.csv', index=False)"
      ],
      "metadata": {
        "id": "pIIj4hnKCf90"
      },
      "execution_count": null,
      "outputs": []
    },
    {
      "cell_type": "markdown",
      "source": [],
      "metadata": {
        "id": "CAeoWSVWTPwJ"
      }
    },
    {
      "cell_type": "code",
      "source": [
        "import pandas as pd\n",
        "\n",
        "titanic=pd.read_csv('./titanic_feature_1.csv')\n",
        "\n",
        "# extract first letter of cabin\n",
        "\n",
        "titanic['Cabin_letter']=titanic['Cabin'].apply(lambda x: x[0])\n",
        "\n",
        "from sklearn.preprocessing import LabelEncoder\n",
        "le=LabelEncoder()\n",
        "titanic['Encoded_Cabin']=le.fit_transform(titanic['Cabin_letter'])\n",
        "\n",
        "titanic.to_csv('titanic_feature_2.csv',index=False)\n"
      ],
      "metadata": {
        "id": "L2L6biiyIPLN"
      },
      "execution_count": null,
      "outputs": []
    },
    {
      "cell_type": "markdown",
      "source": [
        "Training Logistic Regression"
      ],
      "metadata": {
        "id": "8EqtnGBw-mub"
      }
    },
    {
      "cell_type": "code",
      "source": [
        "# from sklearn.linear_model import LogisticRegression\n",
        "# model=LogisticRegression()\n",
        "\n",
        "# X=titanic[['Pclass','Sex_numerical','Rounded_Ages','FareGroup','Encoded_Cabin']]\n",
        "# Y=titanic['Survived']\n",
        "\n",
        "# model.fit(X,Y)\n",
        "\n",
        "test=pd.read_csv('./test_1.csv')\n",
        "test['Cabin_letter']=test['Cabin'].apply(lambda x: x[0])\n",
        "test['Encoded_Cabin']=le.fit_transform(test['Cabin_letter'])\n",
        "test.to_csv('test_2.csv')\n"
      ],
      "metadata": {
        "id": "jWzvJXz_-qIT"
      },
      "execution_count": null,
      "outputs": []
    },
    {
      "cell_type": "code",
      "source": [
        "from sklearn.linear_model import LogisticRegression\n",
        "model=LogisticRegression()\n",
        "\n",
        "\n",
        "titanic['family_size']=titanic['SibSp']+titanic['Parch']\n",
        "\n",
        "\n",
        "\n",
        "X=titanic[['Pclass','Sex_numerical','Rounded_Ages','FareGroup','Encoded_Cabin','family_size']]\n",
        "Y=titanic['Survived']\n",
        "\n",
        "model.fit(X,Y)\n",
        "\n",
        "\n",
        "test=pd.read_csv('./test_2.csv')\n",
        "\n",
        "test['family_size']=test['SibSp']+test['Parch']\n",
        "\n",
        "X_test=test[['Pclass','Sex_numerical','Rounded_Ages','FareGroup','Encoded_Cabin','family_size']]\n",
        "\n",
        "prediction_2=pd.DataFrame(columns=['PassengerId','Survived'])\n",
        "\n",
        "prediction_2['PassengerId']=test['PassengerId']\n",
        "prediction_2['Survived']=model.predict(X_test)\n",
        "\n",
        "\n",
        "# prediction_2.to_csv('prediction_2.csv',index=False)\n",
        "titanic.to_csv('titanic_feature_3.csv')\n"
      ],
      "metadata": {
        "id": "e2pG7X_8Azlo"
      },
      "execution_count": null,
      "outputs": []
    },
    {
      "cell_type": "markdown",
      "source": [
        "Trying LDA\n"
      ],
      "metadata": {
        "id": "iKTsL0kkiMvN"
      }
    },
    {
      "cell_type": "code",
      "source": [
        "from sklearn.discriminant_analysis import LinearDiscriminantAnalysis\n",
        "import pandas as pd\n",
        "model=LinearDiscriminantAnalysis()\n",
        "titanic=pd.read_csv('titanic_feature_3.csv');\n",
        "\n",
        "X=titanic[['Pclass','Sex_numerical','Rounded_Ages','FareGroup','Encoded_Cabin','family_size']]\n",
        "Y=titanic['Survived']\n",
        "\n",
        "model.fit(X,Y)\n",
        "test=pd.read_csv('./test_2.csv')\n",
        "\n",
        "test['family_size']=test['SibSp']+test['Parch']\n",
        "\n",
        "X_test=test[['Pclass','Sex_numerical','Rounded_Ages','FareGroup','Encoded_Cabin','family_size']]\n",
        "\n",
        "prediction_3=pd.DataFrame(columns=['PassengerId','Survived'])\n",
        "\n",
        "prediction_3['PassengerId']=test['PassengerId']\n",
        "prediction_3['Survived']=model.predict(X_test)\n",
        "\n",
        "# prediction_3.to_csv('prediction_3.csv',index=False)\n",
        "test.to_csv('test_3.csv')\n",
        "\n",
        "#score .76"
      ],
      "metadata": {
        "id": "Nt8xMeSmiOzz"
      },
      "execution_count": null,
      "outputs": []
    },
    {
      "cell_type": "markdown",
      "source": [
        "Trying QDA"
      ],
      "metadata": {
        "id": "tdyl22BRko-w"
      }
    },
    {
      "cell_type": "code",
      "source": [
        "from sklearn.discriminant_analysis import QuadraticDiscriminantAnalysis\n",
        "import pandas as pd\n",
        "model=QuadraticDiscriminantAnalysis()\n",
        "titanic=pd.read_csv('titanic_feature_3.csv');\n",
        "\n",
        "X=titanic[['Pclass','Sex_numerical','Rounded_Ages','FareGroup','Encoded_Cabin','family_size']]\n",
        "Y=titanic['Survived']\n",
        "\n",
        "model.fit(X,Y)\n",
        "test=pd.read_csv('./test_3.csv')\n",
        "\n",
        "\n",
        "\n",
        "X_test=test[['Pclass','Sex_numerical','Rounded_Ages','FareGroup','Encoded_Cabin','family_size']]\n",
        "\n",
        "prediction_4=pd.DataFrame(columns=['PassengerId','Survived'])\n",
        "\n",
        "prediction_4['PassengerId']=test['PassengerId']\n",
        "prediction_4['Survived']=model.predict(X_test)\n",
        "\n",
        "#prediction_4.to_csv('prediction_3_QDA.csv',index=False)\n",
        "# score .74\n"
      ],
      "metadata": {
        "id": "6U8jmY3KkuJ0"
      },
      "execution_count": null,
      "outputs": []
    },
    {
      "cell_type": "markdown",
      "source": [
        "Trying naive bayes"
      ],
      "metadata": {
        "id": "nlunQMiulsDB"
      }
    },
    {
      "cell_type": "code",
      "source": [
        "from sklearn.naive_bayes import GaussianNB\n",
        "import pandas as pd\n",
        "model=GaussianNB()\n",
        "titanic=pd.read_csv('titanic_feature_3.csv');\n",
        "\n",
        "X=titanic[['Pclass','Sex_numerical','Rounded_Ages','FareGroup','Encoded_Cabin','family_size']]\n",
        "Y=titanic['Survived']\n",
        "\n",
        "model.fit(X,Y)\n",
        "test=pd.read_csv('./test_3.csv')\n",
        "\n",
        "\n",
        "\n",
        "X_test=test[['Pclass','Sex_numerical','Rounded_Ages','FareGroup','Encoded_Cabin','family_size']]\n",
        "\n",
        "prediction_4=pd.DataFrame(columns=['PassengerId','Survived'])\n",
        "\n",
        "prediction_4['PassengerId']=test['PassengerId']\n",
        "prediction_4['Survived']=model.predict(X_test)\n",
        "\n",
        "prediction_4.to_csv('prediction_3_GNB.csv',index=False)\n",
        "#.73"
      ],
      "metadata": {
        "id": "Dq6eJwGalt0E"
      },
      "execution_count": null,
      "outputs": []
    },
    {
      "cell_type": "markdown",
      "source": [
        "More Feature Eng\n"
      ],
      "metadata": {
        "id": "PXbNwoB2mlBw"
      }
    },
    {
      "cell_type": "code",
      "source": [
        "import pandas as pd\n",
        "\n",
        "titanic=pd.read_csv('./titanic_feature_3.csv')\n",
        "test=pd.read_csv('./test_3.csv')\n",
        "from sklearn.preprocessing import LabelEncoder\n",
        "# embarked as a feature\n",
        "le1 = LabelEncoder()\n",
        "titanic['Embarked_encoded'] = le1.fit_transform(titanic['Embarked'])\n",
        "test['Embarked_encoded'] = le1.transform(test['Embarked'])\n",
        "\n",
        "#ticket numeric part as a feature\n",
        "\n",
        "import re\n",
        "\n",
        "# Extract numeric part from ticket (drop letters, slashes, etc.)\n",
        "def extract_ticket_number(ticket):\n",
        "    numbers = re.findall(r'\\d+', ticket)\n",
        "    return int(numbers[-1]) if numbers else 0  # use last number if multiple\n",
        "\n",
        "titanic['Ticket_Num'] = titanic['Ticket'].apply(extract_ticket_number)\n",
        "\n",
        "# Now bin into ranges of 10\n",
        "titanic['TicketGroup'] = titanic['Ticket_Num'].apply(lambda x: round(x / 10) * 10)\n",
        "\n",
        "\n",
        "test['Ticket_Num'] = test['Ticket'].apply(extract_ticket_number)\n",
        "test['TicketGroup'] = test['Ticket_Num'].apply(lambda x: round(x / 10) * 10)\n",
        "\n",
        "le2=LabelEncoder()\n",
        "\n",
        "#extract ticket prefix\n",
        "def get_ticket_prefix(ticket):\n",
        "    return ticket.split()[0] if not ticket.split()[0].isdigit() else 'None'\n",
        "\n",
        "titanic['Ticket_Prefix'] = titanic['Ticket'].apply(get_ticket_prefix)\n",
        "\n",
        "\n",
        "test['Ticket_Prefix'] = test['Ticket'].apply(get_ticket_prefix)\n",
        "# Step 1: Fit on training prefixes\n",
        "prefixes = titanic['Ticket_Prefix'].unique().tolist()\n",
        "prefix_mapping = {prefix: idx for idx, prefix in enumerate(prefixes)}\n",
        "\n",
        "# Step 2: Map training data\n",
        "titanic['Ticket_Prefix_E'] = titanic['Ticket_Prefix'].map(prefix_mapping)\n",
        "\n",
        "# Step 3: Map test data with default for unseen prefixes\n",
        "test['Ticket_Prefix_E'] = test['Ticket_Prefix'].map(lambda x: prefix_mapping.get(x, -1))  # -1 for unseen\n",
        "\n",
        "\n",
        "\n",
        "titanic.to_csv('titanic_feature_4.csv',index=False)\n",
        "test.to_csv('test_4.csv',index=False)"
      ],
      "metadata": {
        "id": "V5huwjtmmm5k"
      },
      "execution_count": null,
      "outputs": []
    },
    {
      "cell_type": "markdown",
      "source": [
        "Applying LDA on new Features\n"
      ],
      "metadata": {
        "id": "uheaMaEXzY8x"
      }
    },
    {
      "cell_type": "code",
      "source": [
        "from sklearn.discriminant_analysis import LinearDiscriminantAnalysis\n",
        "import pandas as pd\n",
        "model=LinearDiscriminantAnalysis()\n",
        "titanic=pd.read_csv('titanic_feature_4.csv');\n",
        "\n",
        "\n",
        "X=titanic[['Pclass','Sex_numerical','Rounded_Ages','FareGroup','Encoded_Cabin','family_size','Embarked_encoded','TicketGroup','Ticket_Prefix_E']]\n",
        "Y=titanic['Survived']\n",
        "\n",
        "model.fit(X,Y)\n",
        "test=pd.read_csv('./test_4.csv')\n",
        "\n",
        "\n",
        "\n",
        "X_test=test[['Pclass','Sex_numerical','Rounded_Ages','FareGroup','Encoded_Cabin','family_size','Embarked_encoded','TicketGroup','Ticket_Prefix_E']]\n",
        "\n",
        "prediction_3=pd.DataFrame(columns=['PassengerId','Survived'])\n",
        "\n",
        "prediction_3['PassengerId']=test['PassengerId']\n",
        "prediction_3['Survived']=model.predict(X_test)\n",
        "\n",
        "prediction_3.to_csv('prediction_5_moref.csv',index=False)\n",
        "#.761"
      ],
      "metadata": {
        "id": "0d8SMIBPzb0i"
      },
      "execution_count": null,
      "outputs": []
    },
    {
      "cell_type": "markdown",
      "source": [
        "Tryin logistic"
      ],
      "metadata": {
        "id": "5MZ8gPu50u_n"
      }
    },
    {
      "cell_type": "code",
      "source": [
        "from sklearn.linear_model import LogisticRegression\n",
        "import pandas as pd\n",
        "model=LogisticRegression()\n",
        "titanic=pd.read_csv('titanic_feature_4.csv');\n",
        "\n",
        "\n",
        "X=titanic[['Pclass','Sex_numerical','Rounded_Ages','FareGroup','Encoded_Cabin','family_size','Embarked_encoded','TicketGroup','Ticket_Prefix_E']]\n",
        "Y=titanic['Survived']\n",
        "\n",
        "model.fit(X,Y)\n",
        "test=pd.read_csv('./test_4.csv')\n",
        "\n",
        "\n",
        "\n",
        "X_test=test[['Pclass','Sex_numerical','Rounded_Ages','FareGroup','Encoded_Cabin','family_size','Embarked_encoded','TicketGroup','Ticket_Prefix_E']]\n",
        "\n",
        "prediction_3=pd.DataFrame(columns=['PassengerId','Survived'])\n",
        "\n",
        "prediction_3['PassengerId']=test['PassengerId']\n",
        "prediction_3['Survived']=model.predict(X_test)\n",
        "\n",
        "prediction_3.to_csv('prediction_5_moref_logistic.csv',index=False)\n",
        "#.66"
      ],
      "metadata": {
        "colab": {
          "base_uri": "https://localhost:8080/"
        },
        "id": "f_1C-7ek0xGV",
        "outputId": "3285a294-91f5-4465-ef5a-d543d1159f8c"
      },
      "execution_count": null,
      "outputs": [
        {
          "output_type": "stream",
          "name": "stderr",
          "text": [
            "/usr/local/lib/python3.11/dist-packages/sklearn/linear_model/_logistic.py:465: ConvergenceWarning: lbfgs failed to converge (status=1):\n",
            "STOP: TOTAL NO. OF ITERATIONS REACHED LIMIT.\n",
            "\n",
            "Increase the number of iterations (max_iter) or scale the data as shown in:\n",
            "    https://scikit-learn.org/stable/modules/preprocessing.html\n",
            "Please also refer to the documentation for alternative solver options:\n",
            "    https://scikit-learn.org/stable/modules/linear_model.html#logistic-regression\n",
            "  n_iter_i = _check_optimize_result(\n"
          ]
        }
      ]
    },
    {
      "cell_type": "markdown",
      "source": [
        "correlation matrix"
      ],
      "metadata": {
        "id": "la9V4Xpi1XLx"
      }
    },
    {
      "cell_type": "code",
      "source": [
        "import seaborn as sns\n",
        "import matplotlib.pyplot as plt\n",
        "import pandas as pd\n",
        "titanic=pd.read_csv('titanic_feature_4.csv')\n",
        "# Compute correlation matrix\n",
        "corr_matrix = titanic[['Survived','Pclass','Sex_numerical','Rounded_Ages','FareGroup',\n",
        "                       'Encoded_Cabin','family_size','Embarked_encoded','TicketGroup','Ticket_Prefix_E']].corr()\n",
        "\n",
        "# Plot it\n",
        "plt.figure(figsize=(10,8))\n",
        "sns.heatmap(corr_matrix, annot=True, cmap='coolwarm')\n",
        "plt.title(\"Feature Correlation Matrix\")\n",
        "plt.show()\n"
      ],
      "metadata": {
        "colab": {
          "base_uri": "https://localhost:8080/",
          "height": 822
        },
        "id": "Qv4lHox51YnM",
        "outputId": "3f7aa833-4fc1-46dc-eb88-4775e54b5fd9"
      },
      "execution_count": null,
      "outputs": [
        {
          "output_type": "display_data",
          "data": {
            "text/plain": [
              "<Figure size 1000x800 with 2 Axes>"
            ],
            "image/png": "[encoded data removed]"
          },
          "metadata": {}
        }
      ]
    },
    {
      "cell_type": "markdown",
      "source": [
        "more feature eng"
      ],
      "metadata": {
        "id": "3nAIWuTU5YVH"
      }
    },
    {
      "cell_type": "code",
      "source": [
        "titanic=pd.read_csv('./titanic_feature_5.csv')\n",
        "\n",
        "\n",
        "# converting family size to is alone\n",
        "\n",
        "#titanic['is_alone']= titanic['family_size'].apply(lambda x: 1 if x==1 else 0)\n",
        "\n",
        "\n",
        "# group ages more wider\n",
        "def group_age(x):\n",
        "  if x<10:\n",
        "    return 1\n",
        "  elif x<30:\n",
        "    return 2\n",
        "  elif x<50:\n",
        "    return 3\n",
        "  else:\n",
        "    return 4\n",
        "\n",
        "titanic['Age_Group2']= titanic['Age'].apply(lambda x: group_age(x))\n",
        "\n",
        "#is unkown feature\n",
        "# titanic['is_unknown']= titanic['Cabin_letter'].apply(lambda x: 1 if x=='U' else 0)\n",
        "\n",
        "titanic.to_csv('titanic_feature_6.csv',index=False)"
      ],
      "metadata": {
        "id": "E1CX_9JX5aZX"
      },
      "execution_count": 16,
      "outputs": []
    },
    {
      "cell_type": "code",
      "source": [
        "test=pd.read_csv('./test_feature_5.csv')\n",
        "\n",
        "\n",
        "# converting family size to is alone\n",
        "\n",
        "# test['is_alone']= test['family_size'].apply(lambda x: 1 if x==1 else 0)\n",
        "\n",
        "\n",
        "# group ages more wider\n",
        "def group_age(x):\n",
        "  if x<10:\n",
        "    return 1\n",
        "  elif x<30:\n",
        "    return 2\n",
        "  elif x<50:\n",
        "    return 3\n",
        "  else:\n",
        "    return 4\n",
        "\n",
        "test['Age_Group2']= test['Age'].apply(lambda x: group_age(x))\n",
        "\n",
        "#is unkown feature\n",
        "# test['is_unknown']= test['Cabin_letter'].apply(lambda x: 1 if x=='U' else 0)\n",
        "\n",
        "test.to_csv('test_feature_6.csv')"
      ],
      "metadata": {
        "id": "2AJfKhSZ7se2"
      },
      "execution_count": 15,
      "outputs": []
    },
    {
      "cell_type": "markdown",
      "source": [
        "trying lda on this"
      ],
      "metadata": {
        "id": "t89zfh92CcfM"
      }
    },
    {
      "cell_type": "code",
      "source": [
        "from sklearn.discriminant_analysis import LinearDiscriminantAnalysis\n",
        "import pandas as pd\n",
        "model=LinearDiscriminantAnalysis()\n",
        "titanic=pd.read_csv('titanic_feature_5.csv');\n",
        "\n",
        "\n",
        "\n",
        "\n",
        "\n",
        "\n",
        "\n",
        "\n",
        "X=titanic[['Pclass','Sex_numerical','Age_Group2','is_alone','Embarked_encoded','is_unknown']]\n",
        "Y=titanic['Survived']\n",
        "\n",
        "\n",
        "\n",
        "\n",
        "\n",
        "model.fit(X,Y)\n",
        "test=pd.read_csv('./test_feature_5.csv')\n",
        "\n",
        "\n",
        "\n",
        "X_test=test[['Pclass','Sex_numerical','Age_Group','is_alone','Embarked_encoded','is_unknown']]\n",
        "\n",
        "prediction=pd.DataFrame(columns=['PassengerId','Survived'])\n",
        "\n",
        "prediction['PassengerId']=test['PassengerId']\n",
        "prediction['Survived']=model.predict(X_test)\n",
        "\n",
        "prediction.to_csv('prediction_7_ldaOnLessF.csv',index=False)\n",
        "#.75"
      ],
      "metadata": {
        "colab": {
          "base_uri": "https://localhost:8080/",
          "height": 425
        },
        "id": "f0oJTgvTCeHF",
        "outputId": "7ab514ad-a031-4189-8a91-e217287ecee2"
      },
      "execution_count": 21,
      "outputs": [
        {
          "output_type": "error",
          "ename": "ValueError",
          "evalue": "The feature names should match those that were passed during fit.\nFeature names unseen at fit time:\n- Age_Group\nFeature names seen at fit time, yet now missing:\n- Age_Group2\n",
          "traceback": [
            "\u001b[0;31m---------------------------------------------------------------------------\u001b[0m",
            "\u001b[0;31mValueError\u001b[0m                                Traceback (most recent call last)",
            "\u001b[0;32m<ipython-input-21-3036675034>\u001b[0m in \u001b[0;36m<cell line: 0>\u001b[0;34m()\u001b[0m\n\u001b[1;32m     39\u001b[0m \u001b[0;34m\u001b[0m\u001b[0m\n\u001b[1;32m     40\u001b[0m \u001b[0mprediction\u001b[0m\u001b[0;34m[\u001b[0m\u001b[0;34m'PassengerId'\u001b[0m\u001b[0;34m]\u001b[0m\u001b[0;34m=\u001b[0m\u001b[0mtest\u001b[0m\u001b[0;34m[\u001b[0m\u001b[0;34m'PassengerId'\u001b[0m\u001b[0;34m]\u001b[0m\u001b[0;34m\u001b[0m\u001b[0;34m\u001b[0m\u001b[0m\n\u001b[0;32m---> 41\u001b[0;31m \u001b[0mprediction\u001b[0m\u001b[0;34m[\u001b[0m\u001b[0;34m'Survived'\u001b[0m\u001b[0;34m]\u001b[0m\u001b[0;34m=\u001b[0m\u001b[0mmodel\u001b[0m\u001b[0;34m.\u001b[0m\u001b[0mpredict\u001b[0m\u001b[0;34m(\u001b[0m\u001b[0mX_test\u001b[0m\u001b[0;34m)\u001b[0m\u001b[0;34m\u001b[0m\u001b[0;34m\u001b[0m\u001b[0m\n\u001b[0m\u001b[1;32m     42\u001b[0m \u001b[0;34m\u001b[0m\u001b[0m\n\u001b[1;32m     43\u001b[0m \u001b[0mprediction\u001b[0m\u001b[0;34m.\u001b[0m\u001b[0mto_csv\u001b[0m\u001b[0;34m(\u001b[0m\u001b[0;34m'prediction_7_ldaOnLessF.csv'\u001b[0m\u001b[0;34m,\u001b[0m\u001b[0mindex\u001b[0m\u001b[0;34m=\u001b[0m\u001b[0;32mFalse\u001b[0m\u001b[0;34m)\u001b[0m\u001b[0;34m\u001b[0m\u001b[0;34m\u001b[0m\u001b[0m\n",
            "\u001b[0;32m/usr/local/lib/python3.11/dist-packages/sklearn/linear_model/_base.py\u001b[0m in \u001b[0;36mpredict\u001b[0;34m(self, X)\u001b[0m\n\u001b[1;32m    372\u001b[0m         \"\"\"\n\u001b[1;32m    373\u001b[0m         \u001b[0mxp\u001b[0m\u001b[0;34m,\u001b[0m \u001b[0m_\u001b[0m \u001b[0;34m=\u001b[0m \u001b[0mget_namespace\u001b[0m\u001b[0;34m(\u001b[0m\u001b[0mX\u001b[0m\u001b[0;34m)\u001b[0m\u001b[0;34m\u001b[0m\u001b[0;34m\u001b[0m\u001b[0m\n\u001b[0;32m--> 374\u001b[0;31m         \u001b[0mscores\u001b[0m \u001b[0;34m=\u001b[0m \u001b[0mself\u001b[0m\u001b[0;34m.\u001b[0m\u001b[0mdecision_function\u001b[0m\u001b[0;34m(\u001b[0m\u001b[0mX\u001b[0m\u001b[0;34m)\u001b[0m\u001b[0;34m\u001b[0m\u001b[0;34m\u001b[0m\u001b[0m\n\u001b[0m\u001b[1;32m    375\u001b[0m         \u001b[0;32mif\u001b[0m \u001b[0mlen\u001b[0m\u001b[0;34m(\u001b[0m\u001b[0mscores\u001b[0m\u001b[0;34m.\u001b[0m\u001b[0mshape\u001b[0m\u001b[0;34m)\u001b[0m \u001b[0;34m==\u001b[0m \u001b[0;36m1\u001b[0m\u001b[0;34m:\u001b[0m\u001b[0;34m\u001b[0m\u001b[0;34m\u001b[0m\u001b[0m\n\u001b[1;32m    376\u001b[0m             \u001b[0mindices\u001b[0m \u001b[0;34m=\u001b[0m \u001b[0mxp\u001b[0m\u001b[0;34m.\u001b[0m\u001b[0mastype\u001b[0m\u001b[0;34m(\u001b[0m\u001b[0mscores\u001b[0m \u001b[0;34m>\u001b[0m \u001b[0;36m0\u001b[0m\u001b[0;34m,\u001b[0m \u001b[0mindexing_dtype\u001b[0m\u001b[0;34m(\u001b[0m\u001b[0mxp\u001b[0m\u001b[0;34m)\u001b[0m\u001b[0;34m)\u001b[0m\u001b[0;34m\u001b[0m\u001b[0;34m\u001b[0m\u001b[0m\n",
            "\u001b[0;32m/usr/local/lib/python3.11/dist-packages/sklearn/discriminant_analysis.py\u001b[0m in \u001b[0;36mdecision_function\u001b[0;34m(self, X)\u001b[0m\n\u001b[1;32m    829\u001b[0m         \"\"\"\n\u001b[1;32m    830\u001b[0m         \u001b[0;31m# Only override for the doc\u001b[0m\u001b[0;34m\u001b[0m\u001b[0;34m\u001b[0m\u001b[0m\n\u001b[0;32m--> 831\u001b[0;31m         \u001b[0;32mreturn\u001b[0m \u001b[0msuper\u001b[0m\u001b[0;34m(\u001b[0m\u001b[0;34m)\u001b[0m\u001b[0;34m.\u001b[0m\u001b[0mdecision_function\u001b[0m\u001b[0;34m(\u001b[0m\u001b[0mX\u001b[0m\u001b[0;34m)\u001b[0m\u001b[0;34m\u001b[0m\u001b[0;34m\u001b[0m\u001b[0m\n\u001b[0m\u001b[1;32m    832\u001b[0m \u001b[0;34m\u001b[0m\u001b[0m\n\u001b[1;32m    833\u001b[0m     \u001b[0;32mdef\u001b[0m \u001b[0m__sklearn_tags__\u001b[0m\u001b[0;34m(\u001b[0m\u001b[0mself\u001b[0m\u001b[0;34m)\u001b[0m\u001b[0;34m:\u001b[0m\u001b[0;34m\u001b[0m\u001b[0;34m\u001b[0m\u001b[0m\n",
            "\u001b[0;32m/usr/local/lib/python3.11/dist-packages/sklearn/linear_model/_base.py\u001b[0m in \u001b[0;36mdecision_function\u001b[0;34m(self, X)\u001b[0m\n\u001b[1;32m    349\u001b[0m         \u001b[0mxp\u001b[0m\u001b[0;34m,\u001b[0m \u001b[0m_\u001b[0m \u001b[0;34m=\u001b[0m \u001b[0mget_namespace\u001b[0m\u001b[0;34m(\u001b[0m\u001b[0mX\u001b[0m\u001b[0;34m)\u001b[0m\u001b[0;34m\u001b[0m\u001b[0;34m\u001b[0m\u001b[0m\n\u001b[1;32m    350\u001b[0m \u001b[0;34m\u001b[0m\u001b[0m\n\u001b[0;32m--> 351\u001b[0;31m         \u001b[0mX\u001b[0m \u001b[0;34m=\u001b[0m \u001b[0mvalidate_data\u001b[0m\u001b[0;34m(\u001b[0m\u001b[0mself\u001b[0m\u001b[0;34m,\u001b[0m \u001b[0mX\u001b[0m\u001b[0;34m,\u001b[0m \u001b[0maccept_sparse\u001b[0m\u001b[0;34m=\u001b[0m\u001b[0;34m\"csr\"\u001b[0m\u001b[0;34m,\u001b[0m \u001b[0mreset\u001b[0m\u001b[0;34m=\u001b[0m\u001b[0;32mFalse\u001b[0m\u001b[0;34m)\u001b[0m\u001b[0;34m\u001b[0m\u001b[0;34m\u001b[0m\u001b[0m\n\u001b[0m\u001b[1;32m    352\u001b[0m         \u001b[0mscores\u001b[0m \u001b[0;34m=\u001b[0m \u001b[0msafe_sparse_dot\u001b[0m\u001b[0;34m(\u001b[0m\u001b[0mX\u001b[0m\u001b[0;34m,\u001b[0m \u001b[0mself\u001b[0m\u001b[0;34m.\u001b[0m\u001b[0mcoef_\u001b[0m\u001b[0;34m.\u001b[0m\u001b[0mT\u001b[0m\u001b[0;34m,\u001b[0m \u001b[0mdense_output\u001b[0m\u001b[0;34m=\u001b[0m\u001b[0;32mTrue\u001b[0m\u001b[0;34m)\u001b[0m \u001b[0;34m+\u001b[0m \u001b[0mself\u001b[0m\u001b[0;34m.\u001b[0m\u001b[0mintercept_\u001b[0m\u001b[0;34m\u001b[0m\u001b[0;34m\u001b[0m\u001b[0m\n\u001b[1;32m    353\u001b[0m         return (\n",
            "\u001b[0;32m/usr/local/lib/python3.11/dist-packages/sklearn/utils/validation.py\u001b[0m in \u001b[0;36mvalidate_data\u001b[0;34m(_estimator, X, y, reset, validate_separately, skip_check_array, **check_params)\u001b[0m\n\u001b[1;32m   2917\u001b[0m         \u001b[0mvalidated\u001b[0m\u001b[0;34m.\u001b[0m\u001b[0;34m\u001b[0m\u001b[0;34m\u001b[0m\u001b[0m\n\u001b[1;32m   2918\u001b[0m     \"\"\"\n\u001b[0;32m-> 2919\u001b[0;31m     \u001b[0m_check_feature_names\u001b[0m\u001b[0;34m(\u001b[0m\u001b[0m_estimator\u001b[0m\u001b[0;34m,\u001b[0m \u001b[0mX\u001b[0m\u001b[0;34m,\u001b[0m \u001b[0mreset\u001b[0m\u001b[0;34m=\u001b[0m\u001b[0mreset\u001b[0m\u001b[0;34m)\u001b[0m\u001b[0;34m\u001b[0m\u001b[0;34m\u001b[0m\u001b[0m\n\u001b[0m\u001b[1;32m   2920\u001b[0m     \u001b[0mtags\u001b[0m \u001b[0;34m=\u001b[0m \u001b[0mget_tags\u001b[0m\u001b[0;34m(\u001b[0m\u001b[0m_estimator\u001b[0m\u001b[0;34m)\u001b[0m\u001b[0;34m\u001b[0m\u001b[0;34m\u001b[0m\u001b[0m\n\u001b[1;32m   2921\u001b[0m     \u001b[0;32mif\u001b[0m \u001b[0my\u001b[0m \u001b[0;32mis\u001b[0m \u001b[0;32mNone\u001b[0m \u001b[0;32mand\u001b[0m \u001b[0mtags\u001b[0m\u001b[0;34m.\u001b[0m\u001b[0mtarget_tags\u001b[0m\u001b[0;34m.\u001b[0m\u001b[0mrequired\u001b[0m\u001b[0;34m:\u001b[0m\u001b[0;34m\u001b[0m\u001b[0;34m\u001b[0m\u001b[0m\n",
            "\u001b[0;32m/usr/local/lib/python3.11/dist-packages/sklearn/utils/validation.py\u001b[0m in \u001b[0;36m_check_feature_names\u001b[0;34m(estimator, X, reset)\u001b[0m\n\u001b[1;32m   2775\u001b[0m             \u001b[0mmessage\u001b[0m \u001b[0;34m+=\u001b[0m \u001b[0;34m\"Feature names must be in the same order as they were in fit.\\n\"\u001b[0m\u001b[0;34m\u001b[0m\u001b[0;34m\u001b[0m\u001b[0m\n\u001b[1;32m   2776\u001b[0m \u001b[0;34m\u001b[0m\u001b[0m\n\u001b[0;32m-> 2777\u001b[0;31m         \u001b[0;32mraise\u001b[0m \u001b[0mValueError\u001b[0m\u001b[0;34m(\u001b[0m\u001b[0mmessage\u001b[0m\u001b[0;34m)\u001b[0m\u001b[0;34m\u001b[0m\u001b[0;34m\u001b[0m\u001b[0m\n\u001b[0m\u001b[1;32m   2778\u001b[0m \u001b[0;34m\u001b[0m\u001b[0m\n\u001b[1;32m   2779\u001b[0m \u001b[0;34m\u001b[0m\u001b[0m\n",
            "\u001b[0;31mValueError\u001b[0m: The feature names should match those that were passed during fit.\nFeature names unseen at fit time:\n- Age_Group\nFeature names seen at fit time, yet now missing:\n- Age_Group2\n"
          ]
        }
      ]
    },
    {
      "cell_type": "markdown",
      "source": [
        "cross validation"
      ],
      "metadata": {
        "id": "CEWbMAzfE70s"
      }
    },
    {
      "cell_type": "code",
      "source": [
        "from sklearn.model_selection import cross_val_score\n",
        "from sklearn.discriminant_analysis import LinearDiscriminantAnalysis\n",
        "import pandas as pd\n",
        "from sklearn.preprocessing import StandardScaler\n",
        "# Load your data\n",
        "titanic = pd.read_csv('titanic_feature_5.csv')\n",
        "\n",
        "def group_age(x):\n",
        "    if x < 12:\n",
        "        return 0  # Child\n",
        "    elif x < 20:\n",
        "        return 1  # Teen\n",
        "    elif x < 35:\n",
        "        return 2  # Young adult\n",
        "    elif x < 60:\n",
        "        return 3  # Adult\n",
        "    else:\n",
        "        return 4  # Senior\n",
        "titanic['Age_Group2']= titanic['Age'].apply(lambda x: group_age(x))\n",
        "\n",
        "\n",
        "\n",
        "\n",
        "\n",
        "\n",
        "\n",
        "scaler = StandardScaler()\n",
        "titanic['Fare_scaled'] = scaler.fit_transform(titanic[['Fare']])\n",
        "\n",
        "# Define features and target\n",
        "X = titanic[['Pclass','Sex_numerical','Age_Group2','Embarked_encoded','is_unknown','family_size']]\n",
        "y = titanic['Survived']\n",
        "\n",
        "# Initialize the model\n",
        "model = LinearDiscriminantAnalysis()\n",
        "\n",
        "# Perform 5-fold cross-validation (you can try 10 too)\n",
        "scores = cross_val_score(model, X, y, cv=5, scoring='accuracy')\n",
        "\n",
        "# Print results\n",
        "print(\"Cross-validation scores:\", scores)\n",
        "print(\"Mean accuracy:\", scores.mean())\n"
      ],
      "metadata": {
        "colab": {
          "base_uri": "https://localhost:8080/"
        },
        "id": "BBXZpyBwE_P-",
        "outputId": "5cb38791-c2ca-4fc7-8504-9ccfdd200ddf"
      },
      "execution_count": 29,
      "outputs": [
        {
          "output_type": "stream",
          "name": "stdout",
          "text": [
            "Cross-validation scores: [0.80446927 0.80898876 0.80337079 0.78651685 0.82022472]\n",
            "Mean accuracy: 0.8047140794677045\n"
          ]
        }
      ]
    },
    {
      "cell_type": "code",
      "source": [
        "from sklearn.linear_model import LogisticRegression\n",
        "from sklearn.model_selection import cross_val_score\n",
        "import pandas as pd\n",
        "\n",
        "# Load your training data\n",
        "titanic = pd.read_csv('titanic_feature_5.csv')\n",
        "\n",
        "\n",
        "def group_age(x):\n",
        "    if x < 12:\n",
        "        return 0  # Child\n",
        "    elif x < 20:\n",
        "        return 1  # Teen\n",
        "    elif x < 35:\n",
        "        return 2  # Young adult\n",
        "    elif x < 60:\n",
        "        return 3  # Adult\n",
        "    else:\n",
        "        return 4  # Senior\n",
        "titanic['Age_Group2']= titanic['Age'].apply(lambda x: group_age(x))\n",
        "\n",
        "\n",
        "\n",
        "\n",
        "\n",
        "\n",
        "\n",
        "scaler = StandardScaler()\n",
        "titanic['Fare_scaled'] = scaler.fit_transform(titanic[['Fare']])\n",
        "\n",
        "# Define features and target\n",
        "X = titanic[['Pclass','Sex_numerical','Age_Group2','Embarked_encoded','is_unknown','family_size','Fare_scaled']]\n",
        "y = titanic['Survived']\n",
        "\n",
        "# Initialize logistic regression model\n",
        "# Use solver='liblinear' for small to medium datasets\n",
        "log_model = LogisticRegression(solver='liblinear')\n",
        "\n",
        "# Perform 5-fold cross-validation\n",
        "scores = cross_val_score(log_model, X, y, cv=5, scoring='accuracy')\n",
        "\n",
        "# Print results\n",
        "print(\"Logistic Regression CV scores:\", scores)\n",
        "print(\"Mean Accuracy:\", scores.mean())\n",
        "print(\"Standard Deviation:\", scores.std())\n",
        "log_model.fit(X, y)\n",
        "feature_importance = pd.DataFrame({\n",
        "    'Feature': X.columns,\n",
        "    'Coefficient': log_model.coef_[0]\n",
        "})\n",
        "print(feature_importance)\n"
      ],
      "metadata": {
        "colab": {
          "base_uri": "https://localhost:8080/"
        },
        "id": "dpUMy4T9FYQz",
        "outputId": "fe400824-028c-4426-98d5-9e9a07f48ee5"
      },
      "execution_count": 30,
      "outputs": [
        {
          "output_type": "stream",
          "name": "stdout",
          "text": [
            "Logistic Regression CV scores: [0.79329609 0.80337079 0.7752809  0.78651685 0.83146067]\n",
            "Mean Accuracy: 0.7979850605737242\n",
            "Standard Deviation: 0.01907148615854448\n",
            "            Feature  Coefficient\n",
            "0            Pclass    -0.604860\n",
            "1     Sex_numerical    -2.512666\n",
            "2        Age_Group2    -0.408063\n",
            "3  Embarked_encoded    -0.133451\n",
            "4        is_unknown    -0.616654\n",
            "5       family_size    -0.213312\n",
            "6       Fare_scaled     0.177732\n"
          ]
        }
      ]
    },
    {
      "cell_type": "markdown",
      "source": [
        "lda\n"
      ],
      "metadata": {
        "id": "y7ctSJ7ZKDnI"
      }
    },
    {
      "cell_type": "code",
      "source": [
        "from sklearn.discriminant_analysis import LinearDiscriminantAnalysis\n",
        "import pandas as pd\n",
        "model=LinearDiscriminantAnalysis()\n",
        "titanic=pd.read_csv('titanic_feature_5.csv');\n",
        "\n",
        "\n",
        "X=titanic[['Pclass','Sex_numerical','Age_Group','Embarked_encoded','is_unknown','family_size']]\n",
        "Y=titanic['Survived']\n",
        "\n",
        "model.fit(X,Y)\n",
        "test=pd.read_csv('./test_feature_5.csv')\n",
        "\n",
        "\n",
        "\n",
        "X_test=test[['Pclass','Sex_numerical','Age_Group','Embarked_encoded','is_unknown','family_size']]\n",
        "\n",
        "prediction=pd.DataFrame(columns=['PassengerId','Survived'])\n",
        "\n",
        "prediction['PassengerId']=test['PassengerId']\n",
        "prediction['Survived']=model.predict(X_test)\n",
        "\n",
        "prediction.to_csv('prediction_8.csv',index=False)\n"
      ],
      "metadata": {
        "id": "KOBMmgp4KEXr"
      },
      "execution_count": 20,
      "outputs": []
    },
    {
      "cell_type": "markdown",
      "source": [
        "final"
      ],
      "metadata": {
        "id": "6621yYtTN7k1"
      }
    },
    {
      "cell_type": "code",
      "source": [
        "from sklearn.discriminant_analysis import LinearDiscriminantAnalysis\n",
        "import pandas as pd\n",
        "model=LinearDiscriminantAnalysis()\n",
        "titanic=pd.read_csv('titanic_feature_5.csv');\n",
        "test=pd.read_csv('./test_feature_5.csv')\n",
        "\n",
        "\n",
        "\n",
        "titanic = pd.read_csv('titanic_feature_5.csv')\n",
        "\n",
        "def group_age(x):\n",
        "    if x < 12:\n",
        "        return 0\n",
        "    elif x < 20:\n",
        "        return 1\n",
        "    elif x < 35:\n",
        "        return 2\n",
        "    elif x < 60:\n",
        "        return 3\n",
        "    else:\n",
        "        return 4\n",
        "titanic['Age_Group2']= titanic['Age'].apply(lambda x: group_age(x))\n",
        "test['Age_Group2']=test['Age'].apply(lambda x: group_age(x))\n",
        "\n",
        "\n",
        "\n",
        "\n",
        "\n",
        "\n",
        "\n",
        "\n",
        "\n",
        "X=titanic[['Pclass','Sex_numerical','Age_Group2','Embarked_encoded','is_unknown','family_size']]\n",
        "Y=titanic['Survived']\n",
        "\n",
        "model.fit(X,Y)\n",
        "\n",
        "\n",
        "\n",
        "\n",
        "X_test=test[['Pclass','Sex_numerical','Age_Group2','Embarked_encoded','is_unknown','family_size']]\n",
        "\n",
        "prediction_3=pd.DataFrame(columns=['PassengerId','Survived'])\n",
        "\n",
        "prediction_3['PassengerId']=test['PassengerId']\n",
        "prediction_3['Survived']=model.predict(X_test)\n",
        "\n",
        "prediction_3.to_csv('prediction_final.csv',index=False)\n"
      ],
      "metadata": {
        "id": "8FtzMvRUN8Sn"
      },
      "execution_count": 32,
      "outputs": []
    }
  ]
}